{
 "cells": [
  {
   "cell_type": "code",
   "execution_count": null,
   "metadata": {},
   "outputs": [],
   "source": [
    "import numpy as np\n",
    "import random\n",
    "from sklearn.model_selection import KFold\n",
    "\n",
    "\n",
    "class DataSplitter:\n",
    "\n",
    "    @staticmethod\n",
    "    def reduceSet(label, ratio):\n",
    "        ''' \n",
    "        Randomly get the reduced dataset from full dataset - Reduce SVM\n",
    "        label = label in data\n",
    "        ratio = The ratio want to sample from full dataset\n",
    "        \n",
    "        Output:\n",
    "        subset = reduced set's index (an index list)\n",
    "        '''\n",
    "        \n",
    "        # Random sampling data\n",
    "        unique_labels = np.unique(label)\n",
    "        subset = []\n",
    "        for uni_lab in unique_labels:\n",
    "            num = round(np.where(label == uni_lab)[0].shape[0] * ratio, 0) #count no. labels with that value\n",
    "            subset = subset + random.sample(list(np.where(label == uni_lab)[0]), int(num)) \n",
    "\n",
    "        return subset\n",
    "\n",
    "    @staticmethod\n",
    "    def splitData(label, ratio=1, num_fold=1):\n",
    "        ''' \n",
    "        Get the slices of data\n",
    "        label = class of data\n",
    "        ratio = The ratio want to sample from full dataset (default: 1)\n",
    "        num_fold = The number of fold in cross validation (default: 1)\n",
    "\n",
    "        Output:\n",
    "        list = subset = reduced set's index\n",
    "            fold = CrossValidation with reduced set\n",
    "        '''\n",
    "        # list of reduced set's index's\n",
    "        subset = DataSplitter.reduceSet(label, ratio)\n",
    "\n",
    "        # Split the reduced set into k-folds\n",
    "        kf = KFold(n_splits=num_fold, shuffle=True, random_state=42)\n",
    "        train_test_splits = []\n",
    "        for _, (train_index, test_index) in enumerate(kf.split(label[subset])):\n",
    "            train_test_splits.append({\"train\": train_index, \"test\": test_index})\n",
    "        \n",
    "        return {\"subset\": subset, \"fold\": train_test_splits}"
   ]
  }
 ],
 "metadata": {
  "language_info": {
   "name": "python"
  }
 },
 "nbformat": 4,
 "nbformat_minor": 2
}
